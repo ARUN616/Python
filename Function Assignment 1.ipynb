{
 "cells": [
  {
   "cell_type": "code",
   "execution_count": 1,
   "id": "adec2ccb",
   "metadata": {},
   "outputs": [],
   "source": [
    "def subfields():\n",
    "    for module in lst:\n",
    "        print(module)\n",
    "\n"
   ]
  },
  {
   "cell_type": "code",
   "execution_count": 2,
   "id": "3e5d7631",
   "metadata": {},
   "outputs": [
    {
     "name": "stdout",
     "output_type": "stream",
     "text": [
      "Sub-fields in AI are: \n",
      "Machine Learning\n",
      "Neural Networks\n",
      "Vision\n",
      "Robotics\n",
      "Speech Processing\n",
      "Natural Language Processing\n"
     ]
    }
   ],
   "source": [
    "lst = ['Machine Learning', 'Neural Networks', 'Vision', 'Robotics', 'Speech Processing', 'Natural Language Processing']\n",
    "print('Sub-fields in AI are: ')\n",
    "subfields()"
   ]
  },
  {
   "cell_type": "code",
   "execution_count": 3,
   "id": "c751a5a5",
   "metadata": {},
   "outputs": [
    {
     "name": "stdout",
     "output_type": "stream",
     "text": [
      "Enter an number:52452\n",
      "52452  is a Even number\n"
     ]
    }
   ],
   "source": [
    "num=int(input('Enter an number:'))\n",
    "if num%2==0:\n",
    "    print(num,' is a Even number')\n",
    "else:\n",
    "    print(num,' is a Odd number')"
   ]
  },
  {
   "cell_type": "code",
   "execution_count": 4,
   "id": "a09a8d48",
   "metadata": {},
   "outputs": [],
   "source": [
    "def Eligible(gender,age):\n",
    "    if gender=='Male' and age>=21:\n",
    "        msg='Eligible'\n",
    "    elif gender=='Female' and age>=18:\n",
    "        msg='Eligible'\n",
    "    else:\n",
    "        msg='Not Eligible'\n",
    "    return msg"
   ]
  },
  {
   "cell_type": "code",
   "execution_count": 5,
   "id": "29d3653f",
   "metadata": {},
   "outputs": [
    {
     "name": "stdout",
     "output_type": "stream",
     "text": [
      "Enter the gender:Male\n",
      "Enter the age:20\n"
     ]
    },
    {
     "data": {
      "text/plain": [
       "'Not Eligible'"
      ]
     },
     "execution_count": 5,
     "metadata": {},
     "output_type": "execute_result"
    }
   ],
   "source": [
    "gender=input('Enter the gender:')\n",
    "age=int(input('Enter the age:'))\n",
    "Eligible(gender,age)"
   ]
  },
  {
   "cell_type": "code",
   "execution_count": 6,
   "id": "dd10e2ce",
   "metadata": {},
   "outputs": [],
   "source": [
    "def percentage(Sub1, Sub2, Sub3, Sub4, Sub5):\n",
    "    Total = Sub1 + Sub2 + Sub3 + Sub4 + Sub5\n",
    "    Percentage = Total / 5\n",
    "    return 'Total:', Total, 'Percentage:', Percentage"
   ]
  },
  {
   "cell_type": "code",
   "execution_count": 7,
   "id": "3fbe9600",
   "metadata": {},
   "outputs": [
    {
     "name": "stdout",
     "output_type": "stream",
     "text": [
      "Subject 1:98\n",
      "Subject 2:87\n",
      "Subject 3:95\n",
      "Subject 4:95\n",
      "Subject 5:93\n"
     ]
    },
    {
     "data": {
      "text/plain": [
       "('Total:', 468, 'Percentage:', 93.6)"
      ]
     },
     "execution_count": 7,
     "metadata": {},
     "output_type": "execute_result"
    }
   ],
   "source": [
    "S1=int(input('Subject 1:'))\n",
    "S2=int(input('Subject 2:'))\n",
    "S3=int(input('Subject 3:'))\n",
    "S4=int(input('Subject 4:'))\n",
    "S5=int(input('Subject 5:'))\n",
    "percentage(S1,S2,S3,S4,S5)"
   ]
  },
  {
   "cell_type": "code",
   "execution_count": 10,
   "id": "9154dd2e",
   "metadata": {},
   "outputs": [],
   "source": [
    "def calculate_area(height, breadth):\n",
    "    return (height * breadth) / 2\n",
    "\n",
    "def calculate_perimeter(height1, height2, breadth):\n",
    "    return height1 + height2 + breadth\n",
    "\n",
    "\n"
   ]
  },
  {
   "cell_type": "code",
   "execution_count": 11,
   "id": "e5d0366c",
   "metadata": {},
   "outputs": [
    {
     "name": "stdout",
     "output_type": "stream",
     "text": [
      "Height: 32\n",
      "Breadth: 34\n",
      "Area of Triangle: 544.0\n",
      "Height1: 2\n",
      "Height2: 4\n",
      "Breadth2: 4\n",
      "Perimeter of Triangle: 10\n"
     ]
    }
   ],
   "source": [
    "height = 32\n",
    "breadth = 34\n",
    "area = calculate_area(height, breadth)\n",
    "print('Height:',height)\n",
    "print('Breadth:',breadth)\n",
    "print(\"Area of Triangle:\", area)\n",
    "\n",
    "height1 = 2\n",
    "height2 = 4\n",
    "Breadt2=4\n",
    "perimeter = calculate_perimeter(height1, height2, Breadt2)\n",
    "print('Height1:',height1)\n",
    "print('Height2:',height2)\n",
    "print('Breadth2:',Breadt2)\n",
    "print(\"Perimeter of Triangle:\", perimeter)"
   ]
  }
 ],
 "metadata": {
  "kernelspec": {
   "display_name": "Python 3 (ipykernel)",
   "language": "python",
   "name": "python3"
  },
  "language_info": {
   "codemirror_mode": {
    "name": "ipython",
    "version": 3
   },
   "file_extension": ".py",
   "mimetype": "text/x-python",
   "name": "python",
   "nbconvert_exporter": "python",
   "pygments_lexer": "ipython3",
   "version": "3.10.9"
  }
 },
 "nbformat": 4,
 "nbformat_minor": 5
}
