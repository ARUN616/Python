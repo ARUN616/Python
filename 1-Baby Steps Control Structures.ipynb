{
 "cells": [
  {
   "cell_type": "code",
   "execution_count": 1,
   "id": "346536db",
   "metadata": {},
   "outputs": [
    {
     "name": "stdout",
     "output_type": "stream",
     "text": [
      "Welcome to Assignment-1\n"
     ]
    }
   ],
   "source": [
    "# Question 1\n",
    "print('Welcome to Assignment-1')\n"
   ]
  },
  {
   "cell_type": "code",
   "execution_count": 5,
   "id": "9cf1d9ef",
   "metadata": {},
   "outputs": [
    {
     "name": "stdout",
     "output_type": "stream",
     "text": [
      "Num1= 10\n",
      "Num2= 30\n",
      "Add= 40\n"
     ]
    }
   ],
   "source": [
    "# Question 2\n",
    "Num1= 10\n",
    "Num2= 30\n",
    "Add= Num1+Num2\n",
    "print('Num1=',Num1)\n",
    "print('Num2=',Num2)\n",
    "print('Add=',Add)"
   ]
  },
  {
   "cell_type": "code",
   "execution_count": 7,
   "id": "6e61a75d",
   "metadata": {},
   "outputs": [
    {
     "name": "stdout",
     "output_type": "stream",
     "text": [
      "Enter the BMI Index:34\n",
      "Very Overweight\n"
     ]
    }
   ],
   "source": [
    "bmi_index=float(input('Enter the BMI Index:'))\n",
    "\n",
    "if bmi_index< 18.5:\n",
    "    category='Underweight'\n",
    "elif bmi_index< 24.9:\n",
    "    category='NomalWeight'\n",
    "elif bmi_index<29.9:\n",
    "    category='OverWeight'\n",
    "else:\n",
    "    category='Very Overweight'\n",
    "    \n",
    "print(category)"
   ]
  }
 ],
 "metadata": {
  "kernelspec": {
   "display_name": "Python 3 (ipykernel)",
   "language": "python",
   "name": "python3"
  },
  "language_info": {
   "codemirror_mode": {
    "name": "ipython",
    "version": 3
   },
   "file_extension": ".py",
   "mimetype": "text/x-python",
   "name": "python",
   "nbconvert_exporter": "python",
   "pygments_lexer": "ipython3",
   "version": "3.10.9"
  }
 },
 "nbformat": 4,
 "nbformat_minor": 5
}
