{
 "cells": [
  {
   "cell_type": "code",
   "execution_count": 1,
   "id": "a1b334b4",
   "metadata": {},
   "outputs": [
    {
     "name": "stdout",
     "output_type": "stream",
     "text": [
      "CORRECT\n"
     ]
    }
   ],
   "source": [
    "i = 10\n",
    "\n",
    "if i == 10:\n",
    "    print('CORRECT')"
   ]
  },
  {
   "cell_type": "code",
   "execution_count": 2,
   "id": "becdb2e8",
   "metadata": {},
   "outputs": [
    {
     "name": "stdout",
     "output_type": "stream",
     "text": [
      "Enter the password:HOPE@123\n",
      "Your password is correct\n"
     ]
    }
   ],
   "source": [
    "\n",
    "\n",
    "credential=input('Enter the password:')\n",
    "if credential=='HOPE@123':\n",
    "    print('Your password is correct')\n",
    "else:\n",
    "    print('Your password is incorrect')"
   ]
  },
  {
   "cell_type": "code",
   "execution_count": 3,
   "id": "2c058a9d",
   "metadata": {},
   "outputs": [
    {
     "name": "stdout",
     "output_type": "stream",
     "text": [
      "Enter your age: 20\n",
      "Adult\n"
     ]
    }
   ],
   "source": [
    "age = int(input(\"Enter your age: \"))\n",
    "\n",
    "if age <18:\n",
    "    category = 'Child'\n",
    "elif age <40:\n",
    "    category = 'Adult'\n",
    "elif age <60:\n",
    "    category = 'Citizen'\n",
    "else:\n",
    "    category = 'Senior Citizen'\n",
    "\n",
    "print(category)"
   ]
  },
  {
   "cell_type": "code",
   "execution_count": 5,
   "id": "ae099596",
   "metadata": {},
   "outputs": [
    {
     "name": "stdout",
     "output_type": "stream",
     "text": [
      "Enter any number:1\n",
      "No is positive\n"
     ]
    }
   ],
   "source": [
    "num=int(input('Enter any number:'))\n",
    "if num>0:\n",
    "    print('No is positive')\n",
    "elif num==0:\n",
    "    print('No is zero')\n",
    "else:\n",
    "    print('No is negative')"
   ]
  },
  {
   "cell_type": "code",
   "execution_count": 8,
   "id": "616f5059",
   "metadata": {},
   "outputs": [
    {
     "name": "stdout",
     "output_type": "stream",
     "text": [
      "Enter a number to check:22\n",
      "No it is not divisible by 5\n"
     ]
    }
   ],
   "source": [
    "num=int(input('Enter a number to check:'))\n",
    "if num%5==0:\n",
    "    print('Yes it is divisible by 5')\n",
    "else:\n",
    "    print('No it is not divisible by 5')"
   ]
  }
 ],
 "metadata": {
  "kernelspec": {
   "display_name": "Python 3 (ipykernel)",
   "language": "python",
   "name": "python3"
  },
  "language_info": {
   "codemirror_mode": {
    "name": "ipython",
    "version": 3
   },
   "file_extension": ".py",
   "mimetype": "text/x-python",
   "name": "python",
   "nbconvert_exporter": "python",
   "pygments_lexer": "ipython3",
   "version": "3.10.9"
  }
 },
 "nbformat": 4,
 "nbformat_minor": 5
}
