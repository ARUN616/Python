{
 "cells": [
  {
   "cell_type": "markdown",
   "id": "53aa116a-a21b-4ff7-ae4e-8a066dcb7f2f",
   "metadata": {},
   "source": [
    "## Python Data Types \n",
    "\n",
    "- Numeric\n",
    "- Boolean\n",
    "- Sequence type"
   ]
  },
  {
   "cell_type": "code",
   "execution_count": null,
   "id": "aab8037c-5530-4ae3-b285-1d04892e5472",
   "metadata": {},
   "outputs": [],
   "source": [
    "# Numeric Data type -integers\n",
    "mydata_int=2\n",
    "type(mydata_int)"
   ]
  },
  {
   "cell_type": "code",
   "execution_count": null,
   "id": "4f562a89-330d-417c-99a2-99ac580d51b2",
   "metadata": {},
   "outputs": [],
   "source": [
    "#float\n",
    "mydata_float=2.3\n",
    "type(mydata_float)"
   ]
  },
  {
   "cell_type": "code",
   "execution_count": null,
   "id": "6f51cfcf-3ff6-4d32-88e3-164b627e3dfe",
   "metadata": {},
   "outputs": [],
   "source": [
    "mydata_boolean=True\n",
    "type(mydata_boolean)#Boolean store value as true or false"
   ]
  },
  {
   "cell_type": "code",
   "execution_count": null,
   "id": "1e72e97e-fbcd-45e9-9e06-e3e4f146dae4",
   "metadata": {},
   "outputs": [],
   "source": [
    "# Sequence data type as string\n",
    "mystring='My name is arun'\n",
    "type(mystring)"
   ]
  },
  {
   "cell_type": "code",
   "execution_count": null,
   "id": "39389eef-f18d-4577-ba0b-d1571930bce2",
   "metadata": {},
   "outputs": [],
   "source": [
    "print(f'Type of this string {type(mystring)}')"
   ]
  },
  {
   "cell_type": "code",
   "execution_count": null,
   "id": "d493e125-2d51-4c99-9e53-9b419884654d",
   "metadata": {},
   "outputs": [],
   "source": [
    "#String operation\n",
    "print(mystring[1:5])#printing from 1st index till 4th index"
   ]
  },
  {
   "cell_type": "code",
   "execution_count": null,
   "id": "d6d9713a-71bb-42ed-a93f-b776d1268576",
   "metadata": {},
   "outputs": [],
   "source": [
    "#string concat example\n",
    "str1='Arun'\n",
    "str2='Kumar'\n",
    "full_name=str1+' '+str2\n",
    "print(full_name)"
   ]
  },
  {
   "cell_type": "code",
   "execution_count": null,
   "id": "1c475765-ff83-45b2-8e3d-a15562f8473d",
   "metadata": {},
   "outputs": [],
   "source": [
    "# List is a collection of one or more data items its mutables\n",
    "lst=[22,'dd',3.4,[53,{1:'dsa'}]]"
   ]
  },
  {
   "cell_type": "code",
   "execution_count": null,
   "id": "0cb341be-7031-492c-85b6-3249c0871799",
   "metadata": {},
   "outputs": [],
   "source": [
    "lst[3][1][1]"
   ]
  },
  {
   "cell_type": "code",
   "execution_count": null,
   "id": "e738b5f8-d2ad-43dc-a44f-8c5a1db3cbd0",
   "metadata": {},
   "outputs": [],
   "source": [
    "lst[3][1][1]='apple'"
   ]
  },
  {
   "cell_type": "code",
   "execution_count": null,
   "id": "53c7c7bb-d1b6-48ef-8246-ded204d3f338",
   "metadata": {},
   "outputs": [],
   "source": [
    "lst"
   ]
  },
  {
   "cell_type": "code",
   "execution_count": null,
   "id": "0508eebe-79fa-4ff8-8241-b34732386b77",
   "metadata": {},
   "outputs": [],
   "source": [
    "#tuple is collection of one or more data but its not mutable\n",
    "tupl=(22,'dd',3.4,[53,{1:'dsa'}])"
   ]
  },
  {
   "cell_type": "code",
   "execution_count": null,
   "id": "610ce09d-5bd6-40ce-ab1c-b0166fb148b7",
   "metadata": {},
   "outputs": [],
   "source": [
    "type(tupl)"
   ]
  },
  {
   "cell_type": "code",
   "execution_count": null,
   "id": "f4299efe-89fa-4a0c-b549-33dfd54c8ee6",
   "metadata": {},
   "outputs": [],
   "source": [
    "tupl[2]=5"
   ]
  },
  {
   "cell_type": "code",
   "execution_count": null,
   "id": "6188010b-a576-4435-90f1-6e5b86c4c2df",
   "metadata": {},
   "outputs": [],
   "source": [
    "# Set is unorder collection of unique items\n",
    "myset={5,3,2,4}"
   ]
  },
  {
   "cell_type": "code",
   "execution_count": null,
   "id": "248297d9-2745-424b-9576-5c433136e13d",
   "metadata": {},
   "outputs": [],
   "source": [
    "myset# its used union and intersection"
   ]
  },
  {
   "cell_type": "code",
   "execution_count": null,
   "id": "ead1aa60-9dea-4115-af07-f3c27196c263",
   "metadata": {},
   "outputs": [],
   "source": [
    "myset[1]#unordered items so cant access specific element"
   ]
  },
  {
   "cell_type": "code",
   "execution_count": null,
   "id": "21205871-33ad-434e-a751-a9a070ab1efd",
   "metadata": {},
   "outputs": [],
   "source": [
    "#Dictionary has combination of keys and values\n",
    "mydict={1:'Name',2:'Arun'}"
   ]
  },
  {
   "cell_type": "code",
   "execution_count": null,
   "id": "add43a67-f5a5-425f-8ed6-22d475d95432",
   "metadata": {},
   "outputs": [],
   "source": [
    "type(mydict)"
   ]
  },
  {
   "cell_type": "code",
   "execution_count": null,
   "id": "dd5fd2e7-99f2-437d-952a-ed7552a3ccb5",
   "metadata": {},
   "outputs": [],
   "source": [
    "mydict[1]"
   ]
  },
  {
   "cell_type": "code",
   "execution_count": null,
   "id": "4c5f234a-9dfd-4831-8b20-7177ff754bfe",
   "metadata": {},
   "outputs": [],
   "source": [
    "mydict.keys()"
   ]
  },
  {
   "cell_type": "markdown",
   "id": "9d20f910-ca0b-48c3-a249-715a75efb6d3",
   "metadata": {},
   "source": [
    "### Package is a collection of python module. its an code library we can use it in our code"
   ]
  },
  {
   "cell_type": "markdown",
   "id": "230376ac-75c1-4d93-8316-fe489e434791",
   "metadata": {},
   "source": [
    "- Data Collection and Cleaning and EDA we could use numpy,pandas,matplotlib and seaborn\n",
    "- Model building and validataion, Model deployment we could use scikit-learn,statsmodels and pickle"
   ]
  },
  {
   "cell_type": "code",
   "execution_count": null,
   "id": "8a347640-df75-4348-9071-0a32ef507756",
   "metadata": {},
   "outputs": [],
   "source": [
    "import pandas as pd\n",
    "data=[31,32,65,75]\n",
    "mydataframe=pd.DataFrame(data)"
   ]
  },
  {
   "cell_type": "code",
   "execution_count": null,
   "id": "d5d4f851-5426-4aa4-8f34-9b81917aca43",
   "metadata": {},
   "outputs": [],
   "source": [
    "mydataframe"
   ]
  },
  {
   "cell_type": "code",
   "execution_count": null,
   "id": "69514662-c8af-4b2d-80bc-f3eb28937017",
   "metadata": {},
   "outputs": [],
   "source": [
    "mydataframe.loc[2:4]"
   ]
  },
  {
   "cell_type": "code",
   "execution_count": null,
   "id": "f67a6597-6d4d-4e35-a7cc-52d3e830c102",
   "metadata": {},
   "outputs": [],
   "source": [
    "mydataframe.loc[mydataframe[0]>40]"
   ]
  },
  {
   "cell_type": "code",
   "execution_count": null,
   "id": "d1b3a4df-fe22-4dec-b105-58980122f59b",
   "metadata": {},
   "outputs": [],
   "source": [
    "#pandas has helpful for operation such as aggregation,summarization,sorting,reshaping are supported"
   ]
  },
  {
   "cell_type": "markdown",
   "id": "aff883bf-7b30-4be3-a8f0-de55388b3699",
   "metadata": {},
   "source": [
    "## Numpy to perform mathematical and statistical operations\n",
    "- its consumes less memory very fast and convenient to use"
   ]
  },
  {
   "cell_type": "code",
   "execution_count": null,
   "id": "978c7fb4-c9ee-4bc5-955f-c6dac77640ac",
   "metadata": {},
   "outputs": [],
   "source": [
    "import numpy as np"
   ]
  },
  {
   "cell_type": "code",
   "execution_count": null,
   "id": "344d7015-1579-40a3-adad-77888146146c",
   "metadata": {},
   "outputs": [],
   "source": [
    "mylist=[24,33,42,11]\n",
    "np.mean(mylist)#calculating mean"
   ]
  },
  {
   "cell_type": "code",
   "execution_count": null,
   "id": "00838e30-30dd-41bd-be46-ea1af86481fb",
   "metadata": {},
   "outputs": [],
   "source": [
    "np.median(mylist)#calculating median"
   ]
  },
  {
   "cell_type": "markdown",
   "id": "eee8d89c-2b6b-4a56-8856-9857e5532a7f",
   "metadata": {},
   "source": [
    "## Matplotlib\n",
    "plotting library for the python"
   ]
  },
  {
   "cell_type": "code",
   "execution_count": null,
   "id": "f93afbed-d88e-45ad-be36-8d383e27941e",
   "metadata": {},
   "outputs": [],
   "source": [
    "from matplotlib import pyplot as plt"
   ]
  },
  {
   "cell_type": "code",
   "execution_count": null,
   "id": "1f69b8cb-7dcf-4144-aa7a-e6c2e2f544a8",
   "metadata": {},
   "outputs": [],
   "source": [
    "x=[14,25,33,54]\n",
    "y=[24,35,12,34]\n",
    "plt.plot(x,y)\n",
    "plt.show()"
   ]
  },
  {
   "cell_type": "code",
   "execution_count": null,
   "id": "4dabdbc2-243d-4bf6-baef-26357a83e06d",
   "metadata": {},
   "outputs": [],
   "source": [
    "plt.bar(x,y)\n",
    "plt.show()"
   ]
  },
  {
   "cell_type": "code",
   "execution_count": null,
   "id": "7bd85538-375a-4011-9957-f8ed03b2033f",
   "metadata": {},
   "outputs": [],
   "source": [
    "plt.hist(y)\n",
    "plt.show()"
   ]
  },
  {
   "cell_type": "code",
   "execution_count": null,
   "id": "62aa78ee-9cc5-4572-8f85-086dd6cd8638",
   "metadata": {},
   "outputs": [],
   "source": [
    "plt.scatter(x,y)\n",
    "plt.show()"
   ]
  },
  {
   "cell_type": "markdown",
   "id": "a53419a7-7657-410c-b5df-7fd63c869d9f",
   "metadata": {},
   "source": [
    "## How to import data in python"
   ]
  },
  {
   "cell_type": "markdown",
   "id": "ec972e3b-b30d-4499-b769-42d94e243cc2",
   "metadata": {},
   "source": [
    "#### Where does data sit\n",
    "- Files(Local data, Competition data, Transferred data)\n",
    "- Database system(For business)\n",
    "- Web(Data available on internet)"
   ]
  },
  {
   "cell_type": "code",
   "execution_count": null,
   "id": "f97a6c54-79ca-4afd-a8f9-e97790c5b2b9",
   "metadata": {},
   "outputs": [],
   "source": [
    "## Fetching data from local files\n",
    "# Checking current working directory\n",
    "import os\n",
    "os.getcwd()"
   ]
  },
  {
   "cell_type": "code",
   "execution_count": null,
   "id": "6de5f159-d1db-4e6e-9a4b-1a109dac44ca",
   "metadata": {},
   "outputs": [],
   "source": [
    "#Set working directory\n",
    "os.chdir('C:\\\\Users\\\\Arun\\\\AI tamil\\\\Python')"
   ]
  },
  {
   "cell_type": "code",
   "execution_count": null,
   "id": "2b6aee72-e0be-4d50-aa4e-212ecd09c190",
   "metadata": {},
   "outputs": [],
   "source": [
    "#importing pandas package\n",
    "import pandas as pd\n",
    "data=pd.read_csv('coffee.csv')\n",
    "data.head(2)"
   ]
  },
  {
   "cell_type": "markdown",
   "id": "e24d2ec2-f94e-44f8-b6a1-472030de0fd6",
   "metadata": {},
   "source": [
    "## Fetching Data from Database"
   ]
  },
  {
   "cell_type": "code",
   "execution_count": null,
   "id": "5a300974-3a6e-4e0a-9acc-f75674719ae8",
   "metadata": {},
   "outputs": [],
   "source": [
    "import MySQLdb"
   ]
  },
  {
   "cell_type": "markdown",
   "id": "1473fb1d-b400-48ec-928d-6e81294fa4ce",
   "metadata": {},
   "source": [
    "## Fetching Data from web- WebScrapping"
   ]
  },
  {
   "cell_type": "code",
   "execution_count": null,
   "id": "1f2cf088-f4cb-4326-8bfc-5f049bb31f4d",
   "metadata": {},
   "outputs": [],
   "source": [
    "import urllib.request\n",
    "url='https://en.wikipedia.org/wiki/Machine_learning'"
   ]
  },
  {
   "cell_type": "code",
   "execution_count": null,
   "id": "16503ac3-5ac3-41f4-9bd9-2b1a34bab57f",
   "metadata": {},
   "outputs": [],
   "source": [
    "r=urllib.request.urlopen(url)\n",
    "\n",
    "for line in r:\n",
    "    print(line.decode('utf-8'))"
   ]
  },
  {
   "cell_type": "markdown",
   "id": "d813b728-1e5f-4c7d-adab-ff7a07be1bf3",
   "metadata": {},
   "source": [
    "## Functions in Python( Create the function for repeatitive task we can use it wherver needed)"
   ]
  },
  {
   "cell_type": "markdown",
   "id": "ee472fc2-80b1-4932-b9f3-d808299e9c88",
   "metadata": {},
   "source": [
    "#### Two types of functions\n",
    "- System defined\n",
    "- User defined"
   ]
  },
  {
   "cell_type": "code",
   "execution_count": null,
   "id": "f7e34a3d-7786-4a66-86ce-07d1e0c4fe62",
   "metadata": {},
   "outputs": [],
   "source": [
    "#example of system defined functin\n",
    "import numpy as np\n",
    "print(np.mean([4,5,2,10]))"
   ]
  },
  {
   "cell_type": "code",
   "execution_count": null,
   "id": "27ac5953-18e7-4ab7-ac4c-67a4a8419d5c",
   "metadata": {},
   "outputs": [],
   "source": [
    "def function(a,b):\n",
    "    add=a+b\n",
    "    return add"
   ]
  },
  {
   "cell_type": "code",
   "execution_count": null,
   "id": "abe9fcd9-13af-453e-8a70-327298f16ad3",
   "metadata": {},
   "outputs": [],
   "source": [
    "function(2,7)"
   ]
  },
  {
   "cell_type": "code",
   "execution_count": null,
   "id": "d48c6077-419e-4c69-9c44-08b7aac53246",
   "metadata": {},
   "outputs": [],
   "source": [
    "def divide(x,y=5):\n",
    "    return(x/y)"
   ]
  },
  {
   "cell_type": "code",
   "execution_count": null,
   "id": "72dec553-9f2b-4d7b-bf70-9d1ea6a08b1f",
   "metadata": {},
   "outputs": [],
   "source": [
    "divide(21)"
   ]
  },
  {
   "cell_type": "markdown",
   "id": "9b07b7a8-d01c-4255-b747-e079467ade6b",
   "metadata": {},
   "source": [
    "## Looping Statement"
   ]
  },
  {
   "cell_type": "code",
   "execution_count": null,
   "id": "a1d64369-de08-4492-a00e-09f1b302cbd8",
   "metadata": {},
   "outputs": [],
   "source": [
    "# conditional statement\n",
    "a=21\n",
    "b=20\n",
    "if b>20:\n",
    "    print('Yes')\n",
    "else:\n",
    "    print('True')"
   ]
  },
  {
   "cell_type": "code",
   "execution_count": null,
   "id": "ae7cd27a-d43c-4559-8ec1-5ae4e90f486e",
   "metadata": {},
   "outputs": [],
   "source": [
    "# Loop is a sequence of instruction that is continously repeated until a certain condition is reached"
   ]
  },
  {
   "cell_type": "code",
   "execution_count": null,
   "id": "4b88ebf8-701e-4e91-9100-04ece5937a22",
   "metadata": {},
   "outputs": [],
   "source": [
    "i=1\n",
    "while i<10:\n",
    "    print(i)\n",
    "    if i==2:\n",
    "        break\n",
    "    i+=1"
   ]
  },
  {
   "cell_type": "code",
   "execution_count": null,
   "id": "c1c43497-3d70-4b99-80d7-f3955f879eec",
   "metadata": {},
   "outputs": [],
   "source": [
    "# For loops in python\n",
    "for i in range(1,10):\n",
    "    if i%2==0:\n",
    "        continue#skip rest of loop for even numbers\n",
    "    print(i)"
   ]
  },
  {
   "cell_type": "code",
   "execution_count": null,
   "id": "bf2d0ce4-d770-49ac-84f6-466f5402c106",
   "metadata": {},
   "outputs": [],
   "source": [
    "colors=['red','green','yello']\n",
    "for clr in colors:\n",
    "    if clr=='green':\n",
    "        continue\n",
    "    else:\n",
    "        pass\n",
    "    print(clr)\n"
   ]
  },
  {
   "cell_type": "code",
   "execution_count": null,
   "id": "20fcb551-a5e0-488a-8e96-0e4e83a1c9e7",
   "metadata": {},
   "outputs": [],
   "source": [
    "# use case for loop\n",
    "# to check the percentage marsk for each student out of 20\n",
    "student_marks=[20,12,14,11,9]\n",
    "percentage_marks=[]\n",
    "\n",
    "rounded_marks = [round(mark, 2) for mark in percentage_marks]\n"
   ]
  },
  {
   "cell_type": "code",
   "execution_count": null,
   "id": "f037bafc-a20c-490d-a28a-d41ef0ed6ebb",
   "metadata": {},
   "outputs": [],
   "source": [
    "\n",
    "percentage_marks"
   ]
  },
  {
   "cell_type": "markdown",
   "id": "ba993403-1aef-4f34-817e-21a318504b10",
   "metadata": {},
   "source": [
    "## How to prepare data for ML\n",
    "- Use case  (Identify most valued customer)\n",
    "- Level -->Data to be created in customer level (Data Collection)\n",
    "### Steps to test the hypothesis\n",
    "- Gather data on purchase history,transaction frequency. segment customer based on purchase frequency, average transaction value.\n",
    "- Perfrom RFM analysis to rank customer and identify pattern\n",
    "- Validate the hypothesis by comparing the identified high value customers with overall revenue and engagement metrics\n",
    "### Create KPI to validate hypothesis(in business perspective we could have table such as customer,transaction,complaint,return tables extract information needed for hypothesis)\n"
   ]
  },
  {
   "cell_type": "markdown",
   "id": "6f189187-1a81-4ba5-a4b5-32d1f43448c1",
   "metadata": {},
   "source": [
    "### Use case is recommendation engine\n",
    "- Laptop is product we need to recommend mouse or keyboard\n",
    "- Level-  Data to be created in product level\n",
    "  p1 and p2, p1 and p3 comparision\n",
    "- Hypothesis (which  product has purchasing frequency is high)"
   ]
  },
  {
   "cell_type": "markdown",
   "id": "e96b9172-2dbc-4f38-a3ba-93a1a29532ca",
   "metadata": {},
   "source": [
    "## Regular Expression in Python"
   ]
  },
  {
   "cell_type": "markdown",
   "id": "8e834bf7-0dd9-4ac3-a2b2-79bd750f4715",
   "metadata": {},
   "source": [
    "Customer paid 640rs for purchase of product- 'ABC'"
   ]
  },
  {
   "cell_type": "code",
   "execution_count": null,
   "id": "a0173aef-1a4d-4c35-89f1-c0804eba724b",
   "metadata": {},
   "outputs": [],
   "source": [
    "import re\n",
    "\n",
    "text = \"Customer paid 640rs for purchase of product- 'ABC'\"\n",
    "pattern = r\"(\\d+)rs\"  # Capture the digits before 'rs'\n",
    "extracted_numbers = re.findall(pattern, text)\n",
    "if extracted_numbers:\n",
    "    print(f\"Extracted numbers: {''.join(extracted_numbers)}\")\n",
    "else:\n",
    "    print(\"No matches found.\")"
   ]
  },
  {
   "cell_type": "markdown",
   "id": "934cfbbc-4d31-486a-9e33-df3be39cc64c",
   "metadata": {},
   "source": [
    "### re module offers a set of function that allows to search a string for the match"
   ]
  },
  {
   "cell_type": "code",
   "execution_count": null,
   "id": "f9eddf18-494b-4772-8b9c-ac8ba4010ecb",
   "metadata": {},
   "outputs": [],
   "source": [
    "import re\n",
    "pattern=r'\\d{2}'# gives all two digit numbers\n",
    "text='The score of the player was 78 runs from 82 balls'\n",
    "print(re.findall(pattern,text))\n",
    "print(re.search(pattern,text))"
   ]
  },
  {
   "cell_type": "code",
   "execution_count": null,
   "id": "19273a73-4f72-4dc5-afd9-f07f06368ead",
   "metadata": {},
   "outputs": [],
   "source": [
    "pattern=r'\\d{1,3}\\b'# to check all digit(checking 1 to 5 digit)\n",
    "#b is used for boundary selection\n",
    "text='The score of the player was 7867 runs from 82 balls'\n",
    "print(re.findall(pattern,text))\n"
   ]
  },
  {
   "cell_type": "code",
   "execution_count": null,
   "id": "13f20988-7164-4e5f-93d3-31fa50f87b42",
   "metadata": {},
   "outputs": [],
   "source": [
    "pattern=r'\\b\\d{1,3}'\n",
    "text='The score of the player was 7867 runs from 82 balls'\n",
    "print(re.findall(pattern,text))"
   ]
  },
  {
   "cell_type": "code",
   "execution_count": null,
   "id": "9bd52260-532c-4ffc-8a7f-1a945fdcf4b5",
   "metadata": {},
   "outputs": [],
   "source": [
    "pattern=r'\\S'# check whitespace character\n",
    "text='The score of the player was 7867 runs from 82 balls'\n",
    "print(re.findall(pattern,text))"
   ]
  },
  {
   "cell_type": "code",
   "execution_count": null,
   "id": "32844ffa-8fac-4ae1-9d9f-e73b70f0de50",
   "metadata": {},
   "outputs": [],
   "source": [
    "pattern=r'.'# check all the character\n",
    "text='The score of the player was 7867 runs from 82 balls'\n",
    "print(re.findall(pattern,text))"
   ]
  },
  {
   "cell_type": "code",
   "execution_count": null,
   "id": "c0309234-6700-4556-819b-058b589fb042",
   "metadata": {},
   "outputs": [],
   "source": [
    "pattern=r'[a-z]|[0-9]'# check all character between a to z and numbers\n",
    "text='The score of the player was 7867 runs from 82 balls'\n",
    "print(re.findall(pattern,text))"
   ]
  },
  {
   "cell_type": "code",
   "execution_count": null,
   "id": "e56ec1f0-8e8d-4b5e-a9be-cc639f73723e",
   "metadata": {},
   "outputs": [],
   "source": [
    "pattern=r'[A-Z]|[0-9]'# check all character between A to Z and numbers\n",
    "text='The score of the player was 7867 runs from 82 balls'\n",
    "print(re.findall(pattern,text))"
   ]
  },
  {
   "cell_type": "code",
   "execution_count": null,
   "id": "b519c26d-8ce9-49b4-9a42-9f0396baa417",
   "metadata": {},
   "outputs": [],
   "source": [
    "pattern1=r'\\bplay\\b' # cehck a word\n",
    "pattern2=r'play'\n",
    "text='The score of the player was 7867 runs from 82 balls play'\n",
    "print(re.findall(pattern1,text))\n",
    "print(re.findall(pattern2,text))"
   ]
  },
  {
   "cell_type": "code",
   "execution_count": null,
   "id": "ac9c5971-841b-474c-b442-d6a0b3bd714b",
   "metadata": {},
   "outputs": [],
   "source": [
    "pattern2=r'^The'\n",
    "pattern3=r'play$'\n",
    "text='The score of the player was 7867 runs from 82 balls play'\n",
    "#print(re.findall(pattern1,text))\n",
    "print(re.findall(pattern2,text))\n",
    "print(re.findall(pattern3,text))"
   ]
  },
  {
   "cell_type": "code",
   "execution_count": null,
   "id": "26247cbf-aff4-4419-bb24-dd2b5639e638",
   "metadata": {},
   "outputs": [],
   "source": [
    "pattern3=r'the*'# zero or more occurence e followed by th\n",
    "pattern4=r'the+'# 1 or more occurence of e followed by th\n",
    "text='The score of th player their 7867 runs from 82 balls play'\n",
    "#print(re.findall(pattern1,text))\n",
    "print(re.findall(pattern3,text,re.IGNORECASE))#CASE SENSITIVE\n",
    "print(re.findall(pattern4,text))"
   ]
  },
  {
   "cell_type": "code",
   "execution_count": null,
   "id": "aac7b0d9-a021-49c4-a42d-d0cd81981155",
   "metadata": {},
   "outputs": [],
   "source": [
    "pattern=r'the{1}\\b' # cehck if string th followed by exactlly one e\n",
    "pattern1=r'the|was'# check if string contains either the or was\n",
    "text='The score of thee player their 7867 runs was from 82 balls play'\n",
    "#print(re.findall(pattern1,text))\n",
    "print(re.findall(pattern,text,re.IGNORECASE))#CASE SENSITIVE\n",
    "print(re.findall(pattern1,text,re.IGNORECASE))\n"
   ]
  },
  {
   "cell_type": "markdown",
   "id": "8ca0daf2-8956-4626-92e3-2bd1015685f5",
   "metadata": {},
   "source": [
    "## Regular Expression part2"
   ]
  },
  {
   "cell_type": "code",
   "execution_count": null,
   "id": "2d6e90f5-4089-41d4-b8a2-5d4ca7440283",
   "metadata": {},
   "outputs": [],
   "source": [
    "import re\n",
    "pattern=r'[78~]'  ##check if string containes o/r/e\n",
    "text='The score of thee player ~ their 7867 runs was from 82 balls play'\n",
    "print(re.findall(pattern,text))#CASE SENSITIVE\n"
   ]
  },
  {
   "cell_type": "code",
   "execution_count": null,
   "id": "45644252-de5b-42a9-9850-3a5b6cae31e4",
   "metadata": {},
   "outputs": [],
   "source": [
    "import re\n",
    "pattern=r'[^78~]'  #other than 78^\n",
    "text='The score of thee player ~ their 7867 runs was from 82 balls play'\n",
    "print(re.findall(pattern,text))#CASE SENSITIVE\n"
   ]
  },
  {
   "cell_type": "code",
   "execution_count": null,
   "id": "190952ed-7ec5-4cad-ae4e-6f0a12e14a5e",
   "metadata": {},
   "outputs": [],
   "source": [
    "## Finding junk character in large text --> $'' ' ~\n",
    "pattern =r'[c-f|~]'\n",
    "text='The score of thee player ~ their 7867 runs was from 82 balls play'\n",
    "print(re.findall(pattern,text))"
   ]
  },
  {
   "cell_type": "code",
   "execution_count": null,
   "id": "9b37ca0e-20a5-49f9-abd3-1c4d7b75cd7e",
   "metadata": {},
   "outputs": [],
   "source": [
    "import re\n",
    "\n",
    "pattern = r'[A-Z][0-9][0-9]'#Useful to find pan number/aadhar/error code\n",
    "text = 'The score of the player ~ their T7867 runs was from 82 balls play'\n",
    "\n",
    "extracted_combinations = re.findall(pattern, text)\n",
    "print(extracted_combinations)\n"
   ]
  },
  {
   "cell_type": "code",
   "execution_count": null,
   "id": "72a7ba33-197a-49ec-a522-8fb9db4758fd",
   "metadata": {},
   "outputs": [],
   "source": [
    "pattern=r'[^a-z0-9]' # has a combination and alphabetws with \n",
    "text = 'The score of the player ~ their T7867 runs was from 82 balls play'\n",
    "print(re.findall(pattern,text))"
   ]
  },
  {
   "cell_type": "code",
   "execution_count": null,
   "id": "501b7168-ab98-4971-94d7-8ce661b4b4af",
   "metadata": {},
   "outputs": [],
   "source": [
    "import pandas as pd\n",
    "data=pd.read_csv('coffee.csv')"
   ]
  },
  {
   "cell_type": "code",
   "execution_count": null,
   "id": "9a3fe7e4-ae69-493c-83e6-58c9b67d78f1",
   "metadata": {},
   "outputs": [],
   "source": [
    "data.head(2)"
   ]
  },
  {
   "cell_type": "code",
   "execution_count": null,
   "id": "947a6694-ac77-4729-be23-4cb0cf9265a6",
   "metadata": {},
   "outputs": [],
   "source": [
    "data[(data['Coffee Type'] == 'Espresso') | (data['Units Sold'] == 25)]"
   ]
  },
  {
   "cell_type": "code",
   "execution_count": null,
   "id": "56352539-c05f-4dd8-96dd-b04cef32d68b",
   "metadata": {},
   "outputs": [],
   "source": [
    "mylist=[1,34,2,43]\n",
    "[x if x%2==0 else 0 for x in mylist]# code readability issue when we use complex "
   ]
  },
  {
   "cell_type": "code",
   "execution_count": null,
   "id": "d61a9802-9d28-492d-baf8-977d86af0682",
   "metadata": {},
   "outputs": [],
   "source": [
    "[x**2 if x%2==0 else 0 for x in mylist]"
   ]
  },
  {
   "cell_type": "code",
   "execution_count": null,
   "id": "a5fe9a34-55e3-438f-bdc0-baded059c677",
   "metadata": {},
   "outputs": [],
   "source": [
    "def evenfunction(*args):\n",
    "    for number in args:\n",
    "        if number%2==0:\n",
    "            return number\n",
    "\n",
    "    print(f'There is no even number')\n",
    "   "
   ]
  },
  {
   "cell_type": "code",
   "execution_count": null,
   "id": "52afd191-4f37-4eb2-bb17-758153aa5a06",
   "metadata": {},
   "outputs": [],
   "source": [
    "evenfunction(31,63,23,24,78)"
   ]
  },
  {
   "cell_type": "code",
   "execution_count": null,
   "id": "b4d80a3c-d735-4af9-9eb2-2b8636144c3c",
   "metadata": {},
   "outputs": [],
   "source": [
    "def mixed_function(*args,**kwargs):\n",
    "    total=0\n",
    "    for number in args:\n",
    "        total +=number\n",
    "        print(total)\n",
    "    for key,values in kwargs.items():\n",
    "        print(f'{key} :{values}')\n",
    "\n",
    "    "
   ]
  },
  {
   "cell_type": "code",
   "execution_count": null,
   "id": "363a82c6-c806-46be-8593-1fcac6bce0b1",
   "metadata": {},
   "outputs": [],
   "source": [
    "\n",
    "mixed_function(54,33,21,name='Arun',place='Vkpuram',occupation='Engineer')"
   ]
  },
  {
   "cell_type": "markdown",
   "id": "901034c4-99f9-4043-adf4-e754a58950e9",
   "metadata": {},
   "source": [
    "## OOPS Basics in Python\n",
    "- Classes\n",
    "- Objects\n",
    "- Attributes\n",
    "- Methods"
   ]
  },
  {
   "cell_type": "code",
   "execution_count": null,
   "id": "7c88b9ee-2e0c-44e0-9d15-24dc9be38081",
   "metadata": {},
   "outputs": [],
   "source": [
    "#Define the class\n",
    "class car:\n",
    "    def __init__(self,door,window,enginetype):#self is the current instance of class\n",
    "        self.door=door\n",
    "        self.window=window\n",
    "        self.enginetype=enginetype\n",
    "\n",
    "    def self_driving(self,enginetype):\n",
    "        return f'This car is a {self.enginetype} type'"
   ]
  },
  {
   "cell_type": "code",
   "execution_count": null,
   "id": "606d589f-1cb1-4df2-85ec-3c53190f7a67",
   "metadata": {},
   "outputs": [],
   "source": [
    "carobject=car(door=4,window=5,enginetype='Petrol')\n",
    "# Object has created for the class using for callling attributes and methods\n",
    "carobject2=car(door=4,window=5,enginetype='Diesel')\n"
   ]
  },
  {
   "cell_type": "code",
   "execution_count": null,
   "id": "3cc1e47f-b287-40f5-b150-74380e93c1fe",
   "metadata": {},
   "outputs": [],
   "source": [
    "carobject2.door"
   ]
  },
  {
   "cell_type": "code",
   "execution_count": null,
   "id": "4b9ac4d2-5d5b-4334-9bd9-9c3f7bbc6f72",
   "metadata": {},
   "outputs": [],
   "source": [
    "carobject.door"
   ]
  },
  {
   "cell_type": "code",
   "execution_count": null,
   "id": "40fd08b0-4479-4a58-af36-00c64b321a86",
   "metadata": {},
   "outputs": [],
   "source": [
    "carobject.self_driving(enginetype='Petrol')"
   ]
  },
  {
   "cell_type": "code",
   "execution_count": null,
   "id": "28df785e-9440-403d-b48a-5501d0f6a21f",
   "metadata": {},
   "outputs": [],
   "source": [
    "# Multi Level inheritance\n",
    "class Vehicle:\n",
    "    def __init__(self,make,model):\n",
    "        self.make=make\n",
    "        self.model=model\n",
    "    def starting_car(self):\n",
    "        print(f'The {self.make} and {self.model} is starting')\n",
    "\n",
    "class Car(Vehicle):\n",
    "    def driving_car(self):\n",
    "        print(f'The {self.make} and {self.model} is driving')\n",
    "\n",
    "class ElectricCar(Car):\n",
    "    def charging_batter(self):\n",
    "        print(f'The {self.make} and {self.model} is charging')"
   ]
  },
  {
   "cell_type": "code",
   "execution_count": null,
   "id": "404e3409-e5d7-45f0-b5a8-2dad793a3520",
   "metadata": {},
   "outputs": [],
   "source": [
    "obj=ElectricCar(make='Tesla',model='RecentModel')\n"
   ]
  },
  {
   "cell_type": "code",
   "execution_count": null,
   "id": "e39dca6b-4cc4-4b56-9caf-1d4071c0a4a6",
   "metadata": {},
   "outputs": [],
   "source": [
    "obj.driving_car()\n",
    "obj.charging_batter()\n",
    "obj.starting_car()"
   ]
  },
  {
   "cell_type": "markdown",
   "id": "a1932d1a-00be-4330-af00-e2be554da98d",
   "metadata": {},
   "source": [
    "## Functions in decorators"
   ]
  },
  {
   "cell_type": "code",
   "execution_count": null,
   "id": "56e3c71b-8daf-4bd0-81a8-3d446d265b5d",
   "metadata": {},
   "outputs": [],
   "source": [
    "def msg():\n",
    "    return 'Good Morning'"
   ]
  },
  {
   "cell_type": "code",
   "execution_count": null,
   "id": "a5add2b9-b1d1-474c-9e69-b425cf9385d9",
   "metadata": {},
   "outputs": [],
   "source": [
    "message=msg# Assign function as a variable"
   ]
  },
  {
   "cell_type": "code",
   "execution_count": null,
   "id": "70f551d4-dbc8-4687-910e-fe9e5cd2a285",
   "metadata": {},
   "outputs": [],
   "source": [
    "message()"
   ]
  },
  {
   "cell_type": "code",
   "execution_count": null,
   "id": "135562d9-4aca-4f3d-bead-a3ee91eaf2ef",
   "metadata": {},
   "outputs": [],
   "source": [
    "def msg():\n",
    "    def mymsg():\n",
    "        return 1\n",
    "    return 11"
   ]
  },
  {
   "cell_type": "code",
   "execution_count": null,
   "id": "0572b81c-1356-4e7f-b91c-a0062f921449",
   "metadata": {},
   "outputs": [],
   "source": [
    "message=msg# Function has defined from another function"
   ]
  },
  {
   "cell_type": "code",
   "execution_count": null,
   "id": "7b1c77ed-d898-4b33-993e-541ea3120cef",
   "metadata": {},
   "outputs": [],
   "source": [
    "message()"
   ]
  },
  {
   "cell_type": "code",
   "execution_count": null,
   "id": "e4fcca0b-520a-4bcd-ba5d-9eff3569876a",
   "metadata": {},
   "outputs": [],
   "source": [
    "def msg(argfun):\n",
    "    return argfun()"
   ]
  },
  {
   "cell_type": "code",
   "execution_count": null,
   "id": "1b6b0e86-e870-461d-bec8-2728ef2c0241",
   "metadata": {},
   "outputs": [],
   "source": [
    "def fun11():\n",
    "    return 11\n",
    "    "
   ]
  },
  {
   "cell_type": "code",
   "execution_count": null,
   "id": "09af924e-6105-4143-9511-166ae2acaa2b",
   "metadata": {},
   "outputs": [],
   "source": [
    "message=msg(fun11)#Function takes another function has arguments"
   ]
  },
  {
   "cell_type": "code",
   "execution_count": null,
   "id": "45422bf7-79c2-41f6-b645-00017e4464af",
   "metadata": {},
   "outputs": [],
   "source": [
    "message"
   ]
  },
  {
   "cell_type": "code",
   "execution_count": null,
   "id": "1cc5da3b-f3a1-4d8c-9a60-80b1461ab2a3",
   "metadata": {},
   "outputs": [],
   "source": [
    "# Decorator\n"
   ]
  },
  {
   "cell_type": "code",
   "execution_count": null,
   "id": "ae45f692-8af7-4ced-b5b8-0e8df012d3da",
   "metadata": {},
   "outputs": [],
   "source": [
    "def repeat(n_times):\n",
    "    def decorator(func):\n",
    "        def wrapper(*args, **kwargs):\n",
    "            for _ in range(n_times):\n",
    "                func(*args, **kwargs)\n",
    "        return wrapper \n",
    "\n",
    "    return decorator  # Return the decorator function\n",
    "\n",
    "@repeat(n_times=3)\n",
    "def greet(name):\n",
    "    print(f'Hello {name}')\n"
   ]
  },
  {
   "cell_type": "code",
   "execution_count": null,
   "id": "f20a4bc1-f027-4c6d-aa49-9bb88d1d7d7c",
   "metadata": {},
   "outputs": [],
   "source": [
    "def decorators(func):\n",
    "    def wrapper():\n",
    "        print('Befor calling the fun')\n",
    "        func()\n",
    "        print('Aftre calling the fun')\n",
    "    return wrapper"
   ]
  },
  {
   "cell_type": "code",
   "execution_count": null,
   "id": "0aee4264-eafa-461d-b797-c76626c976d9",
   "metadata": {},
   "outputs": [],
   "source": [
    "@decorators\n",
    "def msg():\n",
    "    print('Hello Good Morning')"
   ]
  },
  {
   "cell_type": "code",
   "execution_count": null,
   "id": "0a4a5069-4da9-43e3-9c8d-1b7915fafae0",
   "metadata": {},
   "outputs": [],
   "source": [
    "msg()"
   ]
  },
  {
   "cell_type": "code",
   "execution_count": null,
   "id": "4562f90d-7e19-4893-a29b-3d5cdff7a14f",
   "metadata": {},
   "outputs": [],
   "source": [
    "greet('Arun')"
   ]
  },
  {
   "cell_type": "code",
   "execution_count": null,
   "id": "a21c39b1-2b8a-4ed4-8bda-da5a23829a9f",
   "metadata": {},
   "outputs": [],
   "source": [
    "write a function takes n as input and gives list of squared number from 0 to n"
   ]
  },
  {
   "cell_type": "code",
   "execution_count": null,
   "id": "55f7c1b4-67c5-41cd-bcb5-69ee82a9816d",
   "metadata": {},
   "outputs": [],
   "source": [
    "def squarenumber(n):\n",
    "    new_list=[]\n",
    "    for i in range(n):\n",
    "        new_list.append(i**2)\n",
    "    return new_list\n"
   ]
  },
  {
   "cell_type": "code",
   "execution_count": null,
   "id": "a9e6a414-e85e-4d51-9b98-f3dc4b7ffea2",
   "metadata": {},
   "outputs": [],
   "source": [
    "a=squarenumber(5)"
   ]
  },
  {
   "cell_type": "code",
   "execution_count": null,
   "id": "8596eb72-5238-4544-8c24-bf03145b4e3f",
   "metadata": {},
   "outputs": [],
   "source": [
    "a"
   ]
  },
  {
   "cell_type": "markdown",
   "id": "fc9297ed-7e5a-409a-a71c-5a84ba4d5928",
   "metadata": {},
   "source": [
    "## Python Generators and Iterators"
   ]
  },
  {
   "cell_type": "code",
   "execution_count": null,
   "id": "87792521-9b9c-4534-b590-84df1cb2f45b",
   "metadata": {},
   "outputs": [],
   "source": [
    "#iterables\n",
    "lst=[1,2,3,4]\n",
    "for i in lst:\n",
    "    print(i)"
   ]
  },
  {
   "cell_type": "code",
   "execution_count": null,
   "id": "6c7ca804-0f3a-4786-a23f-06e25b3863b1",
   "metadata": {},
   "outputs": [],
   "source": [
    "iter(lst)"
   ]
  },
  {
   "cell_type": "code",
   "execution_count": null,
   "id": "2b494c9b-6277-4d0b-a4fe-982e2a834593",
   "metadata": {},
   "outputs": [],
   "source": [
    "## Create a custom iterators\n",
    "class squareiterators:\n",
    "    def __init__(self,start,end):\n",
    "        self.start=start\n",
    "        self.end=end\n",
    "    def __iter__(self):\n",
    "        return self\n",
    "    def __next__(self):\n",
    "        if self.start>=self.end:\n",
    "            raise StopIteration\n",
    "        result=self.start**2\n",
    "        self.start +=1\n",
    "        return result"
   ]
  },
  {
   "cell_type": "code",
   "execution_count": null,
   "id": "bd1d1087-3fc2-479a-8706-3ffebcba9023",
   "metadata": {},
   "outputs": [],
   "source": [
    "sqrt=squareiterators(1,9)"
   ]
  },
  {
   "cell_type": "code",
   "execution_count": null,
   "id": "f5842091-3db9-4a1e-b5d1-35a6ddb6c16b",
   "metadata": {},
   "outputs": [],
   "source": [
    "for i in sqrt:\n",
    "    print(i)"
   ]
  },
  {
   "cell_type": "code",
   "execution_count": null,
   "id": "63f7e52e-3da5-4e13-97cb-46d5aeb91f8f",
   "metadata": {},
   "outputs": [],
   "source": [
    "def square_generators(start,end):\n",
    "    while start<end:\n",
    "        yield start**2\n",
    "        start +=1\n",
    "        "
   ]
  },
  {
   "cell_type": "code",
   "execution_count": null,
   "id": "9744798c-db67-4f13-bbfb-b168ba8f5ba2",
   "metadata": {},
   "outputs": [],
   "source": [
    "for num in square_generators(1,9):\n",
    "    print(num)"
   ]
  },
  {
   "cell_type": "code",
   "execution_count": null,
   "id": "df24fc41-5bf3-40e4-9a8a-b83bee1603ab",
   "metadata": {},
   "outputs": [],
   "source": [
    "def generator():\n",
    "    for num in range(0,9):\n",
    "        yield num\n",
    "    return num"
   ]
  },
  {
   "cell_type": "code",
   "execution_count": null,
   "id": "a79b3316-1488-4440-a786-b6c9720f5700",
   "metadata": {},
   "outputs": [],
   "source": [
    "obj=generator()"
   ]
  },
  {
   "cell_type": "code",
   "execution_count": null,
   "id": "015f9d2e-0feb-4262-b76a-11ed0b085f92",
   "metadata": {},
   "outputs": [],
   "source": [
    "next(obj)"
   ]
  },
  {
   "cell_type": "markdown",
   "id": "465b81ac-8193-4d4d-b271-b4c2065f2ab8",
   "metadata": {},
   "source": [
    "## Text Cleaning in Python"
   ]
  },
  {
   "cell_type": "code",
   "execution_count": 6,
   "id": "0baa379a-ecf9-4310-b65c-750a380ecbd0",
   "metadata": {},
   "outputs": [],
   "source": [
    "# Warning\n",
    "import warnings\n",
    "warnings.filterwarnings('ignore')"
   ]
  },
  {
   "cell_type": "code",
   "execution_count": 5,
   "id": "107526cf-7162-4ab6-876b-5a4acb76188c",
   "metadata": {},
   "outputs": [],
   "source": [
    "# Create bunch of sentence\n",
    "raw_docs = [\"I am writing some very basic english sentences\",\n",
    "\"I'm just writing it for the demo PURPOSE to make audience understand the basics .\",\n",
    "\"The point is to _learn HOW it works_ on #simple # data.\"]"
   ]
  },
  {
   "cell_type": "code",
   "execution_count": 2,
   "id": "e87dbb94-2876-4233-a80b-4daf3ef44d20",
   "metadata": {},
   "outputs": [],
   "source": [
    "# importing nltk package\n",
    "import nltk"
   ]
  },
  {
   "cell_type": "code",
   "execution_count": 3,
   "id": "999b3c1a-f961-4ed2-97ce-5767f717d83b",
   "metadata": {},
   "outputs": [
    {
     "name": "stderr",
     "output_type": "stream",
     "text": [
      "[nltk_data] Downloading package punkt to\n",
      "[nltk_data]     C:\\Users\\Arun\\AppData\\Roaming\\nltk_data...\n",
      "[nltk_data]   Package punkt is already up-to-date!\n"
     ]
    },
    {
     "data": {
      "text/plain": [
       "True"
      ]
     },
     "execution_count": 3,
     "metadata": {},
     "output_type": "execute_result"
    }
   ],
   "source": [
    "nltk.download('punkt')\n"
   ]
  },
  {
   "cell_type": "markdown",
   "id": "308efb83-66fd-417d-824f-a290f6432c87",
   "metadata": {},
   "source": [
    "# convert to lower_case"
   ]
  },
  {
   "cell_type": "code",
   "execution_count": 8,
   "id": "39b84822-0874-4202-952b-df6f1705cb71",
   "metadata": {},
   "outputs": [
    {
     "data": {
      "text/plain": [
       "['i am writing some very basic english sentences',\n",
       " \"i'm just writing it for the demo purpose to make audience understand the basics .\",\n",
       " 'the point is to _learn how it works_ on #simple # data.']"
      ]
     },
     "execution_count": 8,
     "metadata": {},
     "output_type": "execute_result"
    }
   ],
   "source": [
    "raw_docs=[docs.lower() for docs in raw_docs]\n",
    "raw_docs"
   ]
  },
  {
   "cell_type": "markdown",
   "id": "d892616c-8f6e-4d1a-bd22-2ede766f7a67",
   "metadata": {},
   "source": [
    "## Tokenization"
   ]
  },
  {
   "cell_type": "code",
   "execution_count": 10,
   "id": "bda180a4-0b14-47f6-be02-fe7effc9441f",
   "metadata": {},
   "outputs": [],
   "source": [
    "from nltk.tokenize import word_tokenize,sent_tokenize\n"
   ]
  },
  {
   "cell_type": "code",
   "execution_count": 11,
   "id": "d99c7595-3684-4aca-9c6f-ae4b3c53a4b6",
   "metadata": {},
   "outputs": [
    {
     "name": "stdout",
     "output_type": "stream",
     "text": [
      "[['i', 'am', 'writing', 'some', 'very', 'basic', 'english', 'sentences'], ['i', \"'m\", 'just', 'writing', 'it', 'for', 'the', 'demo', 'purpose', 'to', 'make', 'audience', 'understand', 'the', 'basics', '.'], ['the', 'point', 'is', 'to', '_learn', 'how', 'it', 'works_', 'on', '#', 'simple', '#', 'data', '.']]\n"
     ]
    }
   ],
   "source": [
    "word_token=[word_tokenize(docs) for docs in raw_docs]\n",
    "print(word_token)\n"
   ]
  },
  {
   "cell_type": "code",
   "execution_count": 12,
   "id": "af376dbd-027b-46a1-95b4-c0f002d025b0",
   "metadata": {},
   "outputs": [
    {
     "name": "stdout",
     "output_type": "stream",
     "text": [
      "[['i am writing some very basic english sentences'], [\"i'm just writing it for the demo purpose to make audience understand the basics .\"], ['the point is to _learn how it works_ on #simple # data.']]\n"
     ]
    }
   ],
   "source": [
    "sentence_token=[sent_tokenize(docs) for docs in raw_docs]\n",
    "print(sentence_token)\n"
   ]
  },
  {
   "cell_type": "code",
   "execution_count": 26,
   "id": "9ec878d2-2332-42da-a89d-f468fdd6e0aa",
   "metadata": {},
   "outputs": [
    {
     "name": "stdout",
     "output_type": "stream",
     "text": [
      "[['i', 'am', 'writing', 'some', 'very', 'basic', 'english', 'sentences'], ['i', 'm', 'just', 'writing', 'it', 'for', 'the', 'demo', 'purpose', 'to', 'make', 'audience', 'understand', 'the', 'basics'], ['the', 'point', 'is', 'to', 'learn', 'how', 'it', 'works', 'on', 'simple', 'data']]\n"
     ]
    }
   ],
   "source": [
    "\n",
    "\n",
    "# Remove punctuation from each sentence\n",
    "token_docs = [[''.join(c for c in word if c not in string.punctuation) for word in sentence] for sentence in word_token]\n",
    "\n",
    "# Remove empty strings (if any)\n",
    "token_docs = [[word for word in sentence if word] for sentence in token_docs]\n",
    "\n",
    "print(token_docs)"
   ]
  },
  {
   "cell_type": "markdown",
   "id": "2ad148ba-4427-4f45-826a-c26e856350ca",
   "metadata": {},
   "source": [
    "## Removing Stop words"
   ]
  },
  {
   "cell_type": "code",
   "execution_count": 25,
   "id": "5d3e7e87-ac3f-4a0d-91fe-e834cf9923ad",
   "metadata": {},
   "outputs": [],
   "source": [
    "from nltk.corpus import stopwords"
   ]
  },
  {
   "cell_type": "code",
   "execution_count": 32,
   "id": "988402cd-0cc2-48d2-b8b0-a60b237e71e9",
   "metadata": {},
   "outputs": [],
   "source": [
    "token_no_stopwords=[]\n",
    "\n",
    "for docs in token_docs:\n",
    "    vector=[]\n",
    "    for word in docs:\n",
    "        if word not in stopwords.words('english'):\n",
    "            vector.append(word)\n",
    "    token_no_stopwords.append(vector)"
   ]
  },
  {
   "cell_type": "code",
   "execution_count": 33,
   "id": "c7df441b-55ce-4a40-9b6b-77bfe6bd970a",
   "metadata": {},
   "outputs": [
    {
     "data": {
      "text/plain": [
       "[['writing', 'basic', 'english', 'sentences'],\n",
       " ['writing', 'demo', 'purpose', 'make', 'audience', 'understand', 'basics'],\n",
       " ['point', 'learn', 'works', 'simple', 'data']]"
      ]
     },
     "execution_count": 33,
     "metadata": {},
     "output_type": "execute_result"
    }
   ],
   "source": [
    "token_no_stopwords"
   ]
  },
  {
   "cell_type": "markdown",
   "id": "4178c55a-ee59-4cfc-a875-214c37c21ac1",
   "metadata": {},
   "source": [
    "## Step 5 : Stemming and Lemmantization"
   ]
  },
  {
   "cell_type": "code",
   "execution_count": 39,
   "id": "35be5705-d96a-408e-99c5-58a1d7fc232b",
   "metadata": {},
   "outputs": [],
   "source": [
    "from nltk.stem.porter import PorterStemmer\n",
    "from nltk.stem.wordnet import WordNetLemmatizer\n",
    "\n",
    "porter=PorterStemmer()\n",
    "wordnet=WordNetLemmatizer()"
   ]
  },
  {
   "cell_type": "code",
   "execution_count": 41,
   "id": "58a80485-5d0d-43a3-87c9-fd8b4f572c60",
   "metadata": {},
   "outputs": [
    {
     "name": "stderr",
     "output_type": "stream",
     "text": [
      "[nltk_data] Downloading package wordnet to\n",
      "[nltk_data]     C:\\Users\\Arun\\AppData\\Roaming\\nltk_data...\n"
     ]
    },
    {
     "data": {
      "text/plain": [
       "True"
      ]
     },
     "execution_count": 41,
     "metadata": {},
     "output_type": "execute_result"
    }
   ],
   "source": [
    "import nltk\n",
    "nltk.download('wordnet')"
   ]
  },
  {
   "cell_type": "code",
   "execution_count": 46,
   "id": "85367cd8-a6a5-4337-867d-d24d59ea7b29",
   "metadata": {},
   "outputs": [],
   "source": [
    "preprocessed=[]\n",
    "for doc in token_no_stopwords:\n",
    "    final_doc=[]\n",
    "    for word in doc:\n",
    "        final_doc.append(wordnet.lemmatize(word))\n",
    "    preprocessed.append(final_doc)   "
   ]
  },
  {
   "cell_type": "code",
   "execution_count": 47,
   "id": "3389c339-b376-4330-b923-fb2991e0585c",
   "metadata": {},
   "outputs": [
    {
     "data": {
      "text/plain": [
       "[['writing', 'basic', 'english', 'sentence'],\n",
       " ['writing', 'demo', 'purpose', 'make', 'audience', 'understand', 'basic'],\n",
       " ['point', 'learn', 'work', 'simple', 'data']]"
      ]
     },
     "execution_count": 47,
     "metadata": {},
     "output_type": "execute_result"
    }
   ],
   "source": [
    "preprocessed"
   ]
  },
  {
   "cell_type": "code",
   "execution_count": null,
   "id": "580f6027-b072-4c6c-a019-544a3af4b4ad",
   "metadata": {},
   "outputs": [],
   "source": [
    "## Stemming wont give proper words some time lemmatize gives proper sentence its refered with dictionary and provide teh meaning ful text"
   ]
  },
  {
   "cell_type": "markdown",
   "id": "9e997c04-89cd-4598-b194-feab45bb1fd2",
   "metadata": {},
   "source": [
    "## Advance cleaning technique 1 - Normalization "
   ]
  },
  {
   "cell_type": "code",
   "execution_count": 48,
   "id": "ee68403c-d8ea-498e-8763-852caf6f8e19",
   "metadata": {},
   "outputs": [],
   "source": [
    "text = \"On the 30th Jan 2020,Corona virus hit India with 1st case in kerala  anywhere, G.O.I started acting and allocated fund of 17287 Crores I.N.R\""
   ]
  },
  {
   "cell_type": "code",
   "execution_count": 52,
   "id": "9caf6fa9-8514-46bc-a455-3dba201dc79f",
   "metadata": {},
   "outputs": [
    {
     "name": "stdout",
     "output_type": "stream",
     "text": [
      "['The', 'Government of India', 'has', 'announced', 'a', 'new', 'policy', '.']\n"
     ]
    }
   ],
   "source": [
    "# Import necessary libraries\n",
    "import nltk\n",
    "from nltk.tokenize import word_tokenize\n",
    "from word2number import w2n\n",
    "\n",
    "# Define a custom normalize function\n",
    "def normalise(text, user_abbrevs={}):\n",
    "    for abbr, full_form in user_abbrevs.items():\n",
    "        text = text.replace(abbr, full_form)\n",
    "    return text\n",
    "\n",
    "# Define the custom abbreviations\n",
    "custom_abbr = {\n",
    "    'G.O.I': 'Government of India'\n",
    "}\n",
    "\n",
    "# Define the text to be normalized\n",
    "text = \"The G.O.I has announced a new policy.\"\n",
    "\n",
    "# Tokenize the text\n",
    "tokens = word_tokenize(text)\n",
    "\n",
    "# Normalize the tokens\n",
    "normalized_tokens = [normalise(token, custom_abbr) for token in tokens]\n",
    "\n",
    "# Print the normalized tokens\n",
    "print(normalized_tokens)\n"
   ]
  },
  {
   "cell_type": "code",
   "execution_count": 51,
   "id": "b890d2c3-3fb8-44d5-aef4-c04cf348bf9d",
   "metadata": {},
   "outputs": [
    {
     "name": "stdout",
     "output_type": "stream",
     "text": [
      "Collecting word2number\n",
      "  Downloading word2number-1.1.zip (9.7 kB)\n",
      "  Preparing metadata (setup.py): started\n",
      "  Preparing metadata (setup.py): finished with status 'done'\n",
      "Building wheels for collected packages: word2number\n",
      "  Building wheel for word2number (setup.py): started\n",
      "  Building wheel for word2number (setup.py): finished with status 'done'\n",
      "  Created wheel for word2number: filename=word2number-1.1-py3-none-any.whl size=5589 sha256=dd731d5fd1032816181e11e98514872a2dba4948d47f9a3b2ffb437a3fc5d966\n",
      "  Stored in directory: c:\\users\\arun\\appdata\\local\\pip\\cache\\wheels\\5b\\79\\fb\\d25928e599c7e11fe4e00d32048cd74933f34a74c633d2aea6\n",
      "Successfully built word2number\n",
      "Installing collected packages: word2number\n",
      "Successfully installed word2number-1.1\n",
      "Note: you may need to restart the kernel to use updated packages.\n"
     ]
    }
   ],
   "source": [
    "#pip install word2number\n"
   ]
  },
  {
   "cell_type": "code",
   "execution_count": null,
   "id": "6bbca565-9799-4504-a141-132c1f44d766",
   "metadata": {},
   "outputs": [],
   "source": []
  }
 ],
 "metadata": {
  "kernelspec": {
   "display_name": "Python 3 (ipykernel)",
   "language": "python",
   "name": "python3"
  },
  "language_info": {
   "codemirror_mode": {
    "name": "ipython",
    "version": 3
   },
   "file_extension": ".py",
   "mimetype": "text/x-python",
   "name": "python",
   "nbconvert_exporter": "python",
   "pygments_lexer": "ipython3",
   "version": "3.12.4"
  }
 },
 "nbformat": 4,
 "nbformat_minor": 5
}
