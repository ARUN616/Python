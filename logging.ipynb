{
 "cells": [
  {
   "cell_type": "code",
   "execution_count": 9,
   "metadata": {},
   "outputs": [
    {
     "name": "stdout",
     "output_type": "stream",
     "text": [
      "c:\\Users\\Arun\\AI tamil\\Python\n"
     ]
    }
   ],
   "source": [
    "import logging\n",
    "import os\n",
    "print(os.getcwd())\n",
    "\n",
    "# Set up logging\n",
    "#log_filename = 'demo.log'\n",
    "#logging.basicConfig(\n",
    " #   filename=log_filename,\n",
    "  #  level=logging.DEBUG\n",
    "#)\n",
    "\n",
    "logger=logging.getLogger(__name__)\n",
    "logger.setLevel(logging.DEBUG)\n",
    "f= logging.Formatter('%(asctime)s - %(levelname)s - %(message)s')\n",
    "fh=logging.FileHandler('text.log')\n",
    "fh.setFormatter(f)\n",
    "logger.addHandler(fh)\n",
    "\n",
    "# Function to check the validity of a name\n",
    "def namecheck(name):\n",
    "    if len(name) < 2:\n",
    "        logger.debug('Name length is less than 2')\n",
    "        return 'Invalid Name'\n",
    "    elif name.isspace():\n",
    "        logger.debug('Checking if name is space')\n",
    "        return 'Invalid Name'\n",
    "    elif name.isalpha():\n",
    "        logger.debug('Checking if name has only Alphabet')\n",
    "        return 'Valid Name'\n",
    "    elif name.replace(' ', '').isalpha():\n",
    "        logger.debug('Checking for full name')\n",
    "        return 'Valid Name'\n",
    "    else:\n",
    "        logger.debug('Name is invalid')\n",
    "        return 'Invalid Name'\n",
    "\n",
    "\n"
   ]
  },
  {
   "cell_type": "code",
   "execution_count": 10,
   "metadata": {},
   "outputs": [
    {
     "data": {
      "text/plain": [
       "'Valid Name'"
      ]
     },
     "execution_count": 10,
     "metadata": {},
     "output_type": "execute_result"
    }
   ],
   "source": [
    "namecheck('Arun Karthik')"
   ]
  },
  {
   "cell_type": "code",
   "execution_count": null,
   "metadata": {},
   "outputs": [],
   "source": [
    "import logging\n",
    "\n",
    "# Create a custom logger\n",
    "logger1 = logging.getLogger('Logger1')\n",
    "logger2 = logging.getLogger('Logger2')\n",
    "\n",
    "# Set the logging level for each logger\n",
    "logger1.setLevel(logging.DEBUG)\n",
    "logger2.setLevel(logging.WARNING)\n",
    "\n",
    "# Create handlers\n",
    "console_handler1 = logging.StreamHandler()\n",
    "file_handler1 = logging.FileHandler('logger1.log')\n",
    "console_handler2 = logging.StreamHandler()\n",
    "file_handler2 = logging.FileHandler('logger2.log')\n",
    "\n",
    "# Set the level for handlers\n",
    "console_handler1.setLevel(logging.DEBUG)\n",
    "file_handler1.setLevel(logging.DEBUG)\n",
    "console_handler2.setLevel(logging.WARNING)\n",
    "file_handler2.setLevel(logging.WARNING)\n",
    "\n",
    "# Create formatters and set the format for handlers\n",
    "formatter = logging.Formatter('%(asctime)s - %(name)s - %(levelname)s - %(message)s')\n",
    "console_handler1.setFormatter(formatter)\n",
    "file_handler1.setFormatter(formatter)\n",
    "console_handler2.setFormatter(formatter)\n",
    "file_handler2.setFormatter(formatter)\n",
    "\n",
    "# Add handlers to the loggers\n",
    "logger1.addHandler(console_handler1)\n",
    "logger1.addHandler(file_handler1)\n",
    "logger2.addHandler(console_handler2)\n",
    "logger2.addHandler(file_handler2)\n",
    "\n",
    "# Example logging calls\n",
    "logger1.debug('This is a debug message from Logger1')\n",
    "logger1.info('This is an info message from Logger1')\n",
    "logger1.warning('This is a warning message from Logger1')\n",
    "logger1.error('This is an error message from Logger1')\n",
    "\n",
    "logger2.warning('This is a warning message from Logger2')\n",
    "logger2.error('This is an error message from Logger2')\n"
   ]
  }
 ],
 "metadata": {
  "kernelspec": {
   "display_name": "Python 3 (ipykernel)",
   "language": "python",
   "name": "python3"
  },
  "language_info": {
   "codemirror_mode": {
    "name": "ipython",
    "version": 3
   },
   "file_extension": ".py",
   "mimetype": "text/x-python",
   "name": "python",
   "nbconvert_exporter": "python",
   "pygments_lexer": "ipython3",
   "version": "3.12.4"
  }
 },
 "nbformat": 4,
 "nbformat_minor": 4
}
