{
 "cells": [
  {
   "cell_type": "code",
   "execution_count": 1,
   "id": "f4f49e2b",
   "metadata": {},
   "outputs": [],
   "source": [
    "class SubfieldsInAI():\n",
    "    def subfields():\n",
    "        lst = ['Machine Learning', 'Neural Networks', 'Vision', 'Robotics', 'Speech Processing', 'Natural Language Processing']\n",
    "        return lst"
   ]
  },
  {
   "cell_type": "code",
   "execution_count": 2,
   "id": "a5b26a68",
   "metadata": {},
   "outputs": [
    {
     "name": "stdout",
     "output_type": "stream",
     "text": [
      "Sub-fields in AI are:\n",
      "Machine Learning\n",
      "Neural Networks\n",
      "Vision\n",
      "Robotics\n",
      "Speech Processing\n",
      "Natural Language Processing\n"
     ]
    }
   ],
   "source": [
    "print('Sub-fields in AI are:')\n",
    "for module in SubfieldsInAI.subfields():\n",
    "    print(module)"
   ]
  },
  {
   "cell_type": "code",
   "execution_count": 3,
   "id": "781eb90d",
   "metadata": {},
   "outputs": [],
   "source": [
    "class OddEven():\n",
    "    def OddEven():\n",
    "        num=int(input('Enter an number:'))\n",
    "        if num%2==0:\n",
    "            return num,' is a Even number'\n",
    "        else:\n",
    "            return num,' is a Odd number'"
   ]
  },
  {
   "cell_type": "code",
   "execution_count": 4,
   "id": "18553706",
   "metadata": {},
   "outputs": [
    {
     "name": "stdout",
     "output_type": "stream",
     "text": [
      "Enter an number:52452\n"
     ]
    },
    {
     "data": {
      "text/plain": [
       "(52452, ' is a Even number')"
      ]
     },
     "execution_count": 4,
     "metadata": {},
     "output_type": "execute_result"
    }
   ],
   "source": [
    "OddEven.OddEven()"
   ]
  },
  {
   "cell_type": "code",
   "execution_count": 5,
   "id": "2eeaaa2f",
   "metadata": {},
   "outputs": [],
   "source": [
    "class ElegiblityForMarriage():\n",
    "    def Eligible():\n",
    "        gender=input('Enter the gender:')\n",
    "        age=int(input('Enter the age:'))\n",
    "        if gender=='Male' and age>=21:\n",
    "            msg='Eligible'\n",
    "        elif gender=='Female' and age>=18:\n",
    "            msg='Eligible'\n",
    "        else:\n",
    "            msg='Not Eligible'\n",
    "        return msg"
   ]
  },
  {
   "cell_type": "code",
   "execution_count": 6,
   "id": "8b219570",
   "metadata": {},
   "outputs": [
    {
     "name": "stdout",
     "output_type": "stream",
     "text": [
      "Enter the gender:Male\n",
      "Enter the age:20\n"
     ]
    },
    {
     "data": {
      "text/plain": [
       "'Not Eligible'"
      ]
     },
     "execution_count": 6,
     "metadata": {},
     "output_type": "execute_result"
    }
   ],
   "source": [
    "ElegiblityForMarriage.Eligible()"
   ]
  },
  {
   "cell_type": "code",
   "execution_count": 7,
   "id": "73736b5f",
   "metadata": {},
   "outputs": [],
   "source": [
    "class FindPercent():\n",
    "    def percentage():\n",
    "        Sub1=int(input('Subject 1:'))\n",
    "        Sub2=int(input('Subject 2:'))\n",
    "        Sub3=int(input('Subject 3:'))\n",
    "        Sub4=int(input('Subject 4:'))\n",
    "        Sub5=int(input('Subject 5:'))\n",
    "        Total = Sub1 + Sub2 + Sub3 + Sub4 + Sub5\n",
    "        Percentage = Total / 5\n",
    "        return 'Total:', Total, 'Percentage:', Percentage"
   ]
  },
  {
   "cell_type": "code",
   "execution_count": 8,
   "id": "9d316079",
   "metadata": {},
   "outputs": [
    {
     "name": "stdout",
     "output_type": "stream",
     "text": [
      "Subject 1:98\n",
      "Subject 2:87\n",
      "Subject 3:95\n",
      "Subject 4:95\n",
      "Subject 5:93\n"
     ]
    },
    {
     "data": {
      "text/plain": [
       "('Total:', 468, 'Percentage:', 93.6)"
      ]
     },
     "execution_count": 8,
     "metadata": {},
     "output_type": "execute_result"
    }
   ],
   "source": [
    "FindPercent.percentage()"
   ]
  },
  {
   "cell_type": "code",
   "execution_count": 11,
   "id": "c94f44bc",
   "metadata": {},
   "outputs": [],
   "source": [
    "class triangle():\n",
    "    def triangle():\n",
    "        height = 32\n",
    "        breadth = 34\n",
    "        # Area of Triangle\n",
    "        area = (height* breadth)/2\n",
    "        print('Height:',height)\n",
    "        print('Breadth:',breadth)\n",
    "        print(\"Area formula: (Height * Breadth) / 2\")\n",
    "        print(\"Area of Triangle:\", area)\n",
    "\n",
    "        #Perimeter of triangle\n",
    "        height1 = 2\n",
    "        height2 = 4\n",
    "        breadth2=4\n",
    "        perimeter=(height1+height2+breadth2)\n",
    "        print('Height1:',height1)\n",
    "        print('Height2:',height2)\n",
    "        print('Breadth2:',breadth2)\n",
    "        print(\"Perimeter formula: Height1 + Height2 + Breadth\")\n",
    "        print(\"Perimeter of Triangle:\", perimeter)\n",
    "\n",
    "\n"
   ]
  },
  {
   "cell_type": "code",
   "execution_count": 13,
   "id": "f288001e",
   "metadata": {},
   "outputs": [
    {
     "name": "stdout",
     "output_type": "stream",
     "text": [
      "Height: 32\n",
      "Breadth: 34\n",
      "Area formula: (Height * Breadth) / 2\n",
      "Area of Triangle: 544.0\n",
      "Height1: 2\n",
      "Height2: 4\n",
      "Breadth2: 4\n",
      "Perimeter formula: Height1 + Height2 + Breadth\n",
      "Perimeter of Triangle: 10\n"
     ]
    }
   ],
   "source": [
    "triangle.triangle()"
   ]
  }
 ],
 "metadata": {
  "kernelspec": {
   "display_name": "Python 3 (ipykernel)",
   "language": "python",
   "name": "python3"
  },
  "language_info": {
   "codemirror_mode": {
    "name": "ipython",
    "version": 3
   },
   "file_extension": ".py",
   "mimetype": "text/x-python",
   "name": "python",
   "nbconvert_exporter": "python",
   "pygments_lexer": "ipython3",
   "version": "3.10.9"
  }
 },
 "nbformat": 4,
 "nbformat_minor": 5
}
