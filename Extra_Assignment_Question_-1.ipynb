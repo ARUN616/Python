{
 "cells": [
  {
   "cell_type": "code",
   "execution_count": 1,
   "id": "d6b22f78",
   "metadata": {},
   "outputs": [
    {
     "name": "stdout",
     "output_type": "stream",
     "text": [
      "HOPE AI\n"
     ]
    }
   ],
   "source": [
    "\n",
    "print('HOPE AI')"
   ]
  },
  {
   "cell_type": "code",
   "execution_count": 3,
   "id": "3126a3f4",
   "metadata": {},
   "outputs": [
    {
     "name": "stdout",
     "output_type": "stream",
     "text": [
      "Enter your institute name? :HOPE AI\n"
     ]
    }
   ],
   "source": [
    "Institute=input('Enter your institute name? :')"
   ]
  },
  {
   "cell_type": "code",
   "execution_count": 4,
   "id": "78f26408",
   "metadata": {},
   "outputs": [
    {
     "name": "stdout",
     "output_type": "stream",
     "text": [
      "Enter your name:Raj\n",
      "Enter your age:15\n",
      "Enter your school name:Guru School\n",
      "Enter your drgree:BE.CSE\n"
     ]
    }
   ],
   "source": [
    "Name=input('Enter your name:')\n",
    "Age=input('Enter your age:')\n",
    "School=input('Enter your school name:')\n",
    "Degree=input('Enter your drgree:')"
   ]
  },
  {
   "cell_type": "code",
   "execution_count": 5,
   "id": "c9767ae8",
   "metadata": {},
   "outputs": [
    {
     "name": "stdout",
     "output_type": "stream",
     "text": [
      "a= 43\n",
      "b= 34\n",
      "add= 77\n"
     ]
    }
   ],
   "source": [
    "a= 43\n",
    "b= 34\n",
    "add= a+b\n",
    "print('a=',a)\n",
    "print('b=',b)\n",
    "print('add=',add)"
   ]
  },
  {
   "cell_type": "code",
   "execution_count": 7,
   "id": "e44428ca",
   "metadata": {},
   "outputs": [
    {
     "name": "stdout",
     "output_type": "stream",
     "text": [
      "a= 43\n",
      "b= 34\n",
      "Sub= 9\n"
     ]
    }
   ],
   "source": [
    "a= 43\n",
    "b= 34\n",
    "Sub= a-b\n",
    "print('a=',a)\n",
    "print('b=',b)\n",
    "print('Sub=',Sub)"
   ]
  },
  {
   "cell_type": "code",
   "execution_count": 8,
   "id": "261a118e",
   "metadata": {},
   "outputs": [
    {
     "name": "stdout",
     "output_type": "stream",
     "text": [
      "a= 63\n",
      "b= 97\n",
      "Mul= 6111\n"
     ]
    }
   ],
   "source": [
    "a= 63\n",
    "b= 97\n",
    "Mul= a*b\n",
    "print('a=',a)\n",
    "print('b=',b)\n",
    "print('Mul=',Mul)"
   ]
  },
  {
   "cell_type": "code",
   "execution_count": 9,
   "id": "88f76cdd",
   "metadata": {},
   "outputs": [
    {
     "name": "stdout",
     "output_type": "stream",
     "text": [
      "a= 76\n",
      "b= 31\n",
      "Float Div= 2.4516129032258065\n"
     ]
    }
   ],
   "source": [
    "a= 76\n",
    "b= 31\n",
    "Flt=a/b\n",
    "print('a=',a)\n",
    "print('b=',b)\n",
    "print('Float Div=',Flt)"
   ]
  },
  {
   "cell_type": "code",
   "execution_count": 10,
   "id": "099aa526",
   "metadata": {},
   "outputs": [
    {
     "name": "stdout",
     "output_type": "stream",
     "text": [
      "a= 76\n",
      "b= 31\n",
      "Floor Div= 2\n"
     ]
    }
   ],
   "source": [
    "a= 76\n",
    "b= 31\n",
    "Floor=a//b\n",
    "print('a=',a)\n",
    "print('b=',b)\n",
    "print('Floor Div=',Floor)"
   ]
  },
  {
   "cell_type": "code",
   "execution_count": 11,
   "id": "4feae410",
   "metadata": {},
   "outputs": [
    {
     "name": "stdout",
     "output_type": "stream",
     "text": [
      "a= 76\n",
      "b= 31\n",
      "Modulo= 14\n"
     ]
    }
   ],
   "source": [
    "a= 76\n",
    "b= 31\n",
    "Modulo = a%b\n",
    "print('a=',a)\n",
    "print('b=',b)\n",
    "print('Modulo=',Modulo)"
   ]
  },
  {
   "cell_type": "code",
   "execution_count": 12,
   "id": "2664179b",
   "metadata": {},
   "outputs": [
    {
     "name": "stdout",
     "output_type": "stream",
     "text": [
      "a= 4\n",
      "b= 4\n",
      "Power= 256\n"
     ]
    }
   ],
   "source": [
    "a= 4\n",
    "b= 4\n",
    "Power = a**b\n",
    "print('a=',a)\n",
    "print('b=',b)\n",
    "print('Power=',Power)"
   ]
  }
 ],
 "metadata": {
  "kernelspec": {
   "display_name": "Python 3 (ipykernel)",
   "language": "python",
   "name": "python3"
  },
  "language_info": {
   "codemirror_mode": {
    "name": "ipython",
    "version": 3
   },
   "file_extension": ".py",
   "mimetype": "text/x-python",
   "name": "python",
   "nbconvert_exporter": "python",
   "pygments_lexer": "ipython3",
   "version": "3.10.9"
  }
 },
 "nbformat": 4,
 "nbformat_minor": 5
}
