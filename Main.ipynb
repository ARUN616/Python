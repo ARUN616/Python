{
 "cells": [
  {
   "cell_type": "code",
   "execution_count": 6,
   "id": "affe65e5",
   "metadata": {},
   "outputs": [],
   "source": [
    "from classes import SubfieldsInAI"
   ]
  },
  {
   "cell_type": "code",
   "execution_count": 8,
   "id": "584bbe81",
   "metadata": {},
   "outputs": [
    {
     "name": "stdout",
     "output_type": "stream",
     "text": [
      "Sub-fields in AI are:\n",
      "Machine Learning\n",
      "Neural Networks\n",
      "Vision\n",
      "Robotics\n",
      "Speech Processing\n",
      "Natural Language Processing\n"
     ]
    }
   ],
   "source": [
    "print('Sub-fields in AI are:')\n",
    "for module in SubfieldsInAI.subfields():\n",
    "    print(module)"
   ]
  },
  {
   "cell_type": "code",
   "execution_count": 10,
   "id": "a84ebc17",
   "metadata": {},
   "outputs": [
    {
     "name": "stdout",
     "output_type": "stream",
     "text": [
      "Enter an number:52452\n"
     ]
    },
    {
     "data": {
      "text/plain": [
       "(52452, ' is a Even number')"
      ]
     },
     "execution_count": 10,
     "metadata": {},
     "output_type": "execute_result"
    }
   ],
   "source": [
    "SubfieldsInAI.OddEven()"
   ]
  },
  {
   "cell_type": "code",
   "execution_count": 11,
   "id": "b162318d",
   "metadata": {},
   "outputs": [
    {
     "name": "stdout",
     "output_type": "stream",
     "text": [
      "Enter the gender:Male\n",
      "Enter the age:20\n"
     ]
    },
    {
     "data": {
      "text/plain": [
       "'Not Eligible'"
      ]
     },
     "execution_count": 11,
     "metadata": {},
     "output_type": "execute_result"
    }
   ],
   "source": [
    "SubfieldsInAI.Eligible()"
   ]
  },
  {
   "cell_type": "code",
   "execution_count": 12,
   "id": "d647b5b7",
   "metadata": {},
   "outputs": [
    {
     "name": "stdout",
     "output_type": "stream",
     "text": [
      "Subject 1:98\n",
      "Subject 2:87\n",
      "Subject 3:95\n",
      "Subject 4:95\n",
      "Subject 5:83\n"
     ]
    },
    {
     "data": {
      "text/plain": [
       "('Total:', 458, 'Percentage:', 91.6)"
      ]
     },
     "execution_count": 12,
     "metadata": {},
     "output_type": "execute_result"
    }
   ],
   "source": [
    "SubfieldsInAI.percentage()"
   ]
  },
  {
   "cell_type": "code",
   "execution_count": 13,
   "id": "d1bd67bc",
   "metadata": {},
   "outputs": [
    {
     "name": "stdout",
     "output_type": "stream",
     "text": [
      "Height: 32\n",
      "Breadth: 34\n",
      "Area formula: (Height * Breadth) / 2\n",
      "Area of Triangle: 544.0\n",
      "Height1: 2\n",
      "Height2: 4\n",
      "Breadth2: 4\n",
      "Perimeter formula: Height1 + Height2 + Breadth\n",
      "Perimeter of Triangle: 10\n"
     ]
    }
   ],
   "source": [
    "SubfieldsInAI.triangle()"
   ]
  }
 ],
 "metadata": {
  "kernelspec": {
   "display_name": "Python 3 (ipykernel)",
   "language": "python",
   "name": "python3"
  },
  "language_info": {
   "codemirror_mode": {
    "name": "ipython",
    "version": 3
   },
   "file_extension": ".py",
   "mimetype": "text/x-python",
   "name": "python",
   "nbconvert_exporter": "python",
   "pygments_lexer": "ipython3",
   "version": "3.10.9"
  }
 },
 "nbformat": 4,
 "nbformat_minor": 5
}
